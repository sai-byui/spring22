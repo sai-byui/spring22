{
 "cells": [
  {
   "cell_type": "markdown",
   "id": "0c5c6d4b",
   "metadata": {},
   "source": [
    "# Installation\n",
    "\n",
    "* Install Anaconda\n",
    "* Create environment with Python 3.7.x\n",
    "* Start terminal with Environment and run:\n",
    "    * conda install -c esri arcgis=1.8.2\n",
    "    * conda install nodejs=10.13.0\n",
    "    * conda install jupyterlab=2.1.5\n",
    "* Run: juypter lab\n",
    "* Click on Extension button and enable 3rd party app installation\n",
    "* Install the following extensions and rebuild:\n",
    "    * Jupyterlab-manager\n",
    "    * Arcgis-map-ipywidget\n",
    "* References: \n",
    "    * https://developers.arcgis.com/python/guide/\n",
    "    * https://developers.arcgis.com/python/guide/visualizing-data-with-the-spatially-enabled-dataframe/\n",
    "    * https://developers.arcgis.com/python/guide/using-the-jupyter-lab-environment/\n",
    "    * https://pandas.pydata.org/pandas-docs/stable/reference/api/pandas.DataFrame.plot.html\n",
    "    * https://developers.arcgis.com/documentation/common-data-types/renderer-objects.htm\n",
    "    * https://developers.arcgis.com/arcade/"
   ]
  },
  {
   "cell_type": "code",
   "execution_count": 1,
   "id": "839dbbd7",
   "metadata": {
    "scrolled": true
   },
   "outputs": [
    {
     "data": {
      "text/plain": [
       "{'generated': 1654191120000,\n",
       " 'url': 'https://earthquake.usgs.gov/earthquakes/feed/v1.0/summary/all_month.geojson',\n",
       " 'title': 'USGS All Earthquakes, Past Month',\n",
       " 'status': 200,\n",
       " 'api': '1.10.3',\n",
       " 'count': 8747}"
      ]
     },
     "execution_count": 1,
     "metadata": {},
     "output_type": "execute_result"
    }
   ],
   "source": [
    "# Obtain the GeoJSON data\n",
    "# https://earthquake.usgs.gov/earthquakes/feed/v1.0/geojson.php\n",
    "\n",
    "import requests\n",
    "\n",
    "# url = \"https://earthquake.usgs.gov/earthquakes/feed/v1.0/summary/all_hour.geojson\"\n",
    "url = \"https://earthquake.usgs.gov/earthquakes/feed/v1.0/summary/all_month.geojson\"\n",
    "data = requests.get(url)\n",
    "\n",
    "json = data.json()\n",
    "\n",
    "# Show summary of what was read\n",
    "json[\"metadata\"]\n",
    "\n"
   ]
  },
  {
   "cell_type": "code",
   "execution_count": 2,
   "id": "42451f21",
   "metadata": {
    "scrolled": false
   },
   "outputs": [
    {
     "data": {
      "text/html": [
       "<div>\n",
       "<style scoped>\n",
       "    .dataframe tbody tr th:only-of-type {\n",
       "        vertical-align: middle;\n",
       "    }\n",
       "\n",
       "    .dataframe tbody tr th {\n",
       "        vertical-align: top;\n",
       "    }\n",
       "\n",
       "    .dataframe thead th {\n",
       "        text-align: right;\n",
       "    }\n",
       "</style>\n",
       "<table border=\"1\" class=\"dataframe\">\n",
       "  <thead>\n",
       "    <tr style=\"text-align: right;\">\n",
       "      <th></th>\n",
       "      <th>mag</th>\n",
       "      <th>place</th>\n",
       "      <th>time</th>\n",
       "      <th>updated</th>\n",
       "      <th>tz</th>\n",
       "      <th>url</th>\n",
       "      <th>detail</th>\n",
       "      <th>felt</th>\n",
       "      <th>cdi</th>\n",
       "      <th>mmi</th>\n",
       "      <th>...</th>\n",
       "      <th>types</th>\n",
       "      <th>nst</th>\n",
       "      <th>dmin</th>\n",
       "      <th>rms</th>\n",
       "      <th>gap</th>\n",
       "      <th>magType</th>\n",
       "      <th>type</th>\n",
       "      <th>title</th>\n",
       "      <th>OBJECTID</th>\n",
       "      <th>SHAPE</th>\n",
       "    </tr>\n",
       "  </thead>\n",
       "  <tbody>\n",
       "    <tr>\n",
       "      <th>0</th>\n",
       "      <td>1.97</td>\n",
       "      <td>2 km SSW of Oologah, Oklahoma</td>\n",
       "      <td>1654190679</td>\n",
       "      <td>1654190867</td>\n",
       "      <td>0</td>\n",
       "      <td>https://earthquake.usgs.gov/earthquakes/eventp...</td>\n",
       "      <td>https://earthquake.usgs.gov/earthquakes/feed/v...</td>\n",
       "      <td>0.0</td>\n",
       "      <td>0.0</td>\n",
       "      <td>0.0</td>\n",
       "      <td>...</td>\n",
       "      <td>,origin,phase-data,</td>\n",
       "      <td>16.0</td>\n",
       "      <td>0.566359</td>\n",
       "      <td>1.118974</td>\n",
       "      <td>253.998535</td>\n",
       "      <td>ml</td>\n",
       "      <td>earthquake</td>\n",
       "      <td>M 2.0 - 2 km SSW of Oologah, Oklahoma</td>\n",
       "      <td>1</td>\n",
       "      <td>{\"x\": -95.71632385, \"y\": 36.42536163, \"spatial...</td>\n",
       "    </tr>\n",
       "    <tr>\n",
       "      <th>1</th>\n",
       "      <td>2.00</td>\n",
       "      <td>12 km N of Yauco, Puerto Rico</td>\n",
       "      <td>1654186346</td>\n",
       "      <td>1654187229</td>\n",
       "      <td>0</td>\n",
       "      <td>https://earthquake.usgs.gov/earthquakes/eventp...</td>\n",
       "      <td>https://earthquake.usgs.gov/earthquakes/feed/v...</td>\n",
       "      <td>0.0</td>\n",
       "      <td>0.0</td>\n",
       "      <td>0.0</td>\n",
       "      <td>...</td>\n",
       "      <td>,origin,phase-data,</td>\n",
       "      <td>5.0</td>\n",
       "      <td>0.000000</td>\n",
       "      <td>0.190000</td>\n",
       "      <td>307.000000</td>\n",
       "      <td>md</td>\n",
       "      <td>earthquake</td>\n",
       "      <td>M 2.0 - 12 km N of Yauco, Puerto Rico</td>\n",
       "      <td>2</td>\n",
       "      <td>{\"x\": -66.8508333333333, \"y\": 18.1483333333333...</td>\n",
       "    </tr>\n",
       "    <tr>\n",
       "      <th>2</th>\n",
       "      <td>1.40</td>\n",
       "      <td>34 km S of Denali National Park, Alaska</td>\n",
       "      <td>1654185672</td>\n",
       "      <td>1654185812</td>\n",
       "      <td>0</td>\n",
       "      <td>https://earthquake.usgs.gov/earthquakes/eventp...</td>\n",
       "      <td>https://earthquake.usgs.gov/earthquakes/feed/v...</td>\n",
       "      <td>0.0</td>\n",
       "      <td>0.0</td>\n",
       "      <td>0.0</td>\n",
       "      <td>...</td>\n",
       "      <td>,origin,phase-data,</td>\n",
       "      <td>0.0</td>\n",
       "      <td>0.000000</td>\n",
       "      <td>0.750000</td>\n",
       "      <td>0.000000</td>\n",
       "      <td>ml</td>\n",
       "      <td>earthquake</td>\n",
       "      <td>M 1.4 - 34 km S of Denali National Park, Alaska</td>\n",
       "      <td>3</td>\n",
       "      <td>{\"x\": -151.7338, \"y\": 63.2308, \"spatialReferen...</td>\n",
       "    </tr>\n",
       "    <tr>\n",
       "      <th>3</th>\n",
       "      <td>0.74</td>\n",
       "      <td>4km SE of Beaumont, CA</td>\n",
       "      <td>1654185482</td>\n",
       "      <td>1654185702</td>\n",
       "      <td>0</td>\n",
       "      <td>https://earthquake.usgs.gov/earthquakes/eventp...</td>\n",
       "      <td>https://earthquake.usgs.gov/earthquakes/feed/v...</td>\n",
       "      <td>0.0</td>\n",
       "      <td>0.0</td>\n",
       "      <td>0.0</td>\n",
       "      <td>...</td>\n",
       "      <td>,nearby-cities,origin,phase-data,scitech-link,</td>\n",
       "      <td>12.0</td>\n",
       "      <td>0.206800</td>\n",
       "      <td>0.180000</td>\n",
       "      <td>107.000000</td>\n",
       "      <td>ml</td>\n",
       "      <td>earthquake</td>\n",
       "      <td>M 0.7 - 4km SE of Beaumont, CA</td>\n",
       "      <td>4</td>\n",
       "      <td>{\"x\": -116.9441667, \"y\": 33.9098333, \"spatialR...</td>\n",
       "    </tr>\n",
       "    <tr>\n",
       "      <th>4</th>\n",
       "      <td>1.30</td>\n",
       "      <td>25 km S of Susitna, Alaska</td>\n",
       "      <td>1654184949</td>\n",
       "      <td>1654185410</td>\n",
       "      <td>0</td>\n",
       "      <td>https://earthquake.usgs.gov/earthquakes/eventp...</td>\n",
       "      <td>https://earthquake.usgs.gov/earthquakes/feed/v...</td>\n",
       "      <td>0.0</td>\n",
       "      <td>0.0</td>\n",
       "      <td>0.0</td>\n",
       "      <td>...</td>\n",
       "      <td>,origin,phase-data,</td>\n",
       "      <td>0.0</td>\n",
       "      <td>0.000000</td>\n",
       "      <td>0.820000</td>\n",
       "      <td>0.000000</td>\n",
       "      <td>ml</td>\n",
       "      <td>earthquake</td>\n",
       "      <td>M 1.3 - 25 km S of Susitna, Alaska</td>\n",
       "      <td>5</td>\n",
       "      <td>{\"x\": -150.5517, \"y\": 61.316, \"spatialReferenc...</td>\n",
       "    </tr>\n",
       "    <tr>\n",
       "      <th>...</th>\n",
       "      <td>...</td>\n",
       "      <td>...</td>\n",
       "      <td>...</td>\n",
       "      <td>...</td>\n",
       "      <td>...</td>\n",
       "      <td>...</td>\n",
       "      <td>...</td>\n",
       "      <td>...</td>\n",
       "      <td>...</td>\n",
       "      <td>...</td>\n",
       "      <td>...</td>\n",
       "      <td>...</td>\n",
       "      <td>...</td>\n",
       "      <td>...</td>\n",
       "      <td>...</td>\n",
       "      <td>...</td>\n",
       "      <td>...</td>\n",
       "      <td>...</td>\n",
       "      <td>...</td>\n",
       "      <td>...</td>\n",
       "      <td>...</td>\n",
       "    </tr>\n",
       "    <tr>\n",
       "      <th>8742</th>\n",
       "      <td>0.21</td>\n",
       "      <td>38 km NNE of Amboy, Washington</td>\n",
       "      <td>1651600949</td>\n",
       "      <td>1651796687</td>\n",
       "      <td>0</td>\n",
       "      <td>https://earthquake.usgs.gov/earthquakes/eventp...</td>\n",
       "      <td>https://earthquake.usgs.gov/earthquakes/feed/v...</td>\n",
       "      <td>0.0</td>\n",
       "      <td>0.0</td>\n",
       "      <td>0.0</td>\n",
       "      <td>...</td>\n",
       "      <td>,origin,phase-data,</td>\n",
       "      <td>14.0</td>\n",
       "      <td>0.011770</td>\n",
       "      <td>0.220000</td>\n",
       "      <td>148.000000</td>\n",
       "      <td>ml</td>\n",
       "      <td>earthquake</td>\n",
       "      <td>M 0.2 - 38 km NNE of Amboy, Washington</td>\n",
       "      <td>8743</td>\n",
       "      <td>{\"x\": -122.17433333333334, \"y\": 46.19716666666...</td>\n",
       "    </tr>\n",
       "    <tr>\n",
       "      <th>8743</th>\n",
       "      <td>1.69</td>\n",
       "      <td>45km NE of Holtville, CA</td>\n",
       "      <td>1651600906</td>\n",
       "      <td>1651603733</td>\n",
       "      <td>0</td>\n",
       "      <td>https://earthquake.usgs.gov/earthquakes/eventp...</td>\n",
       "      <td>https://earthquake.usgs.gov/earthquakes/feed/v...</td>\n",
       "      <td>0.0</td>\n",
       "      <td>0.0</td>\n",
       "      <td>0.0</td>\n",
       "      <td>...</td>\n",
       "      <td>,nearby-cities,origin,phase-data,scitech-link,</td>\n",
       "      <td>14.0</td>\n",
       "      <td>0.082220</td>\n",
       "      <td>0.270000</td>\n",
       "      <td>80.000000</td>\n",
       "      <td>ml</td>\n",
       "      <td>quarry blast</td>\n",
       "      <td>M 1.7 Quarry Blast - 45km NE of Holtville, CA</td>\n",
       "      <td>8744</td>\n",
       "      <td>{\"x\": -114.9966667, \"y\": 33.0531667, \"spatialR...</td>\n",
       "    </tr>\n",
       "    <tr>\n",
       "      <th>8744</th>\n",
       "      <td>0.84</td>\n",
       "      <td>6km NW of The Geysers, CA</td>\n",
       "      <td>1651600557</td>\n",
       "      <td>1651603037</td>\n",
       "      <td>0</td>\n",
       "      <td>https://earthquake.usgs.gov/earthquakes/eventp...</td>\n",
       "      <td>https://earthquake.usgs.gov/earthquakes/feed/v...</td>\n",
       "      <td>0.0</td>\n",
       "      <td>0.0</td>\n",
       "      <td>0.0</td>\n",
       "      <td>...</td>\n",
       "      <td>,nearby-cities,origin,phase-data,scitech-link,</td>\n",
       "      <td>16.0</td>\n",
       "      <td>0.006175</td>\n",
       "      <td>0.020000</td>\n",
       "      <td>64.000000</td>\n",
       "      <td>md</td>\n",
       "      <td>earthquake</td>\n",
       "      <td>M 0.8 - 6km NW of The Geysers, CA</td>\n",
       "      <td>8745</td>\n",
       "      <td>{\"x\": -122.8021698, \"y\": 38.8235016, \"spatialR...</td>\n",
       "    </tr>\n",
       "    <tr>\n",
       "      <th>8745</th>\n",
       "      <td>1.24</td>\n",
       "      <td>6 km ENE of Clayton, Idaho</td>\n",
       "      <td>1651599335</td>\n",
       "      <td>1651601651</td>\n",
       "      <td>0</td>\n",
       "      <td>https://earthquake.usgs.gov/earthquakes/eventp...</td>\n",
       "      <td>https://earthquake.usgs.gov/earthquakes/feed/v...</td>\n",
       "      <td>0.0</td>\n",
       "      <td>0.0</td>\n",
       "      <td>0.0</td>\n",
       "      <td>...</td>\n",
       "      <td>,origin,phase-data,</td>\n",
       "      <td>7.0</td>\n",
       "      <td>0.232000</td>\n",
       "      <td>0.090000</td>\n",
       "      <td>145.000000</td>\n",
       "      <td>ml</td>\n",
       "      <td>earthquake</td>\n",
       "      <td>M 1.2 - 6 km ENE of Clayton, Idaho</td>\n",
       "      <td>8746</td>\n",
       "      <td>{\"x\": -114.322, \"y\": 44.271, \"spatialReference...</td>\n",
       "    </tr>\n",
       "    <tr>\n",
       "      <th>8746</th>\n",
       "      <td>3.00</td>\n",
       "      <td>47 km SSE of Nelchina, Alaska</td>\n",
       "      <td>1651599250</td>\n",
       "      <td>1653601399</td>\n",
       "      <td>0</td>\n",
       "      <td>https://earthquake.usgs.gov/earthquakes/eventp...</td>\n",
       "      <td>https://earthquake.usgs.gov/earthquakes/feed/v...</td>\n",
       "      <td>2.0</td>\n",
       "      <td>2.0</td>\n",
       "      <td>0.0</td>\n",
       "      <td>...</td>\n",
       "      <td>,dyfi,origin,phase-data,</td>\n",
       "      <td>0.0</td>\n",
       "      <td>0.000000</td>\n",
       "      <td>0.840000</td>\n",
       "      <td>0.000000</td>\n",
       "      <td>ml</td>\n",
       "      <td>earthquake</td>\n",
       "      <td>M 3.0 - 47 km SSE of Nelchina, Alaska</td>\n",
       "      <td>8747</td>\n",
       "      <td>{\"x\": -146.5106, \"y\": 61.5882, \"spatialReferen...</td>\n",
       "    </tr>\n",
       "  </tbody>\n",
       "</table>\n",
       "<p>8029 rows × 28 columns</p>\n",
       "</div>"
      ],
      "text/plain": [
       "       mag                                    place        time     updated  \\\n",
       "0     1.97            2 km SSW of Oologah, Oklahoma  1654190679  1654190867   \n",
       "1     2.00            12 km N of Yauco, Puerto Rico  1654186346  1654187229   \n",
       "2     1.40  34 km S of Denali National Park, Alaska  1654185672  1654185812   \n",
       "3     0.74                   4km SE of Beaumont, CA  1654185482  1654185702   \n",
       "4     1.30               25 km S of Susitna, Alaska  1654184949  1654185410   \n",
       "...    ...                                      ...         ...         ...   \n",
       "8742  0.21           38 km NNE of Amboy, Washington  1651600949  1651796687   \n",
       "8743  1.69                 45km NE of Holtville, CA  1651600906  1651603733   \n",
       "8744  0.84                6km NW of The Geysers, CA  1651600557  1651603037   \n",
       "8745  1.24               6 km ENE of Clayton, Idaho  1651599335  1651601651   \n",
       "8746  3.00            47 km SSE of Nelchina, Alaska  1651599250  1653601399   \n",
       "\n",
       "      tz                                                url  \\\n",
       "0      0  https://earthquake.usgs.gov/earthquakes/eventp...   \n",
       "1      0  https://earthquake.usgs.gov/earthquakes/eventp...   \n",
       "2      0  https://earthquake.usgs.gov/earthquakes/eventp...   \n",
       "3      0  https://earthquake.usgs.gov/earthquakes/eventp...   \n",
       "4      0  https://earthquake.usgs.gov/earthquakes/eventp...   \n",
       "...   ..                                                ...   \n",
       "8742   0  https://earthquake.usgs.gov/earthquakes/eventp...   \n",
       "8743   0  https://earthquake.usgs.gov/earthquakes/eventp...   \n",
       "8744   0  https://earthquake.usgs.gov/earthquakes/eventp...   \n",
       "8745   0  https://earthquake.usgs.gov/earthquakes/eventp...   \n",
       "8746   0  https://earthquake.usgs.gov/earthquakes/eventp...   \n",
       "\n",
       "                                                 detail  felt  cdi  mmi  ...  \\\n",
       "0     https://earthquake.usgs.gov/earthquakes/feed/v...   0.0  0.0  0.0  ...   \n",
       "1     https://earthquake.usgs.gov/earthquakes/feed/v...   0.0  0.0  0.0  ...   \n",
       "2     https://earthquake.usgs.gov/earthquakes/feed/v...   0.0  0.0  0.0  ...   \n",
       "3     https://earthquake.usgs.gov/earthquakes/feed/v...   0.0  0.0  0.0  ...   \n",
       "4     https://earthquake.usgs.gov/earthquakes/feed/v...   0.0  0.0  0.0  ...   \n",
       "...                                                 ...   ...  ...  ...  ...   \n",
       "8742  https://earthquake.usgs.gov/earthquakes/feed/v...   0.0  0.0  0.0  ...   \n",
       "8743  https://earthquake.usgs.gov/earthquakes/feed/v...   0.0  0.0  0.0  ...   \n",
       "8744  https://earthquake.usgs.gov/earthquakes/feed/v...   0.0  0.0  0.0  ...   \n",
       "8745  https://earthquake.usgs.gov/earthquakes/feed/v...   0.0  0.0  0.0  ...   \n",
       "8746  https://earthquake.usgs.gov/earthquakes/feed/v...   2.0  2.0  0.0  ...   \n",
       "\n",
       "                                               types   nst      dmin  \\\n",
       "0                                ,origin,phase-data,  16.0  0.566359   \n",
       "1                                ,origin,phase-data,   5.0  0.000000   \n",
       "2                                ,origin,phase-data,   0.0  0.000000   \n",
       "3     ,nearby-cities,origin,phase-data,scitech-link,  12.0  0.206800   \n",
       "4                                ,origin,phase-data,   0.0  0.000000   \n",
       "...                                              ...   ...       ...   \n",
       "8742                             ,origin,phase-data,  14.0  0.011770   \n",
       "8743  ,nearby-cities,origin,phase-data,scitech-link,  14.0  0.082220   \n",
       "8744  ,nearby-cities,origin,phase-data,scitech-link,  16.0  0.006175   \n",
       "8745                             ,origin,phase-data,   7.0  0.232000   \n",
       "8746                        ,dyfi,origin,phase-data,   0.0  0.000000   \n",
       "\n",
       "           rms         gap magType          type  \\\n",
       "0     1.118974  253.998535      ml    earthquake   \n",
       "1     0.190000  307.000000      md    earthquake   \n",
       "2     0.750000    0.000000      ml    earthquake   \n",
       "3     0.180000  107.000000      ml    earthquake   \n",
       "4     0.820000    0.000000      ml    earthquake   \n",
       "...        ...         ...     ...           ...   \n",
       "8742  0.220000  148.000000      ml    earthquake   \n",
       "8743  0.270000   80.000000      ml  quarry blast   \n",
       "8744  0.020000   64.000000      md    earthquake   \n",
       "8745  0.090000  145.000000      ml    earthquake   \n",
       "8746  0.840000    0.000000      ml    earthquake   \n",
       "\n",
       "                                                title OBJECTID  \\\n",
       "0               M 2.0 - 2 km SSW of Oologah, Oklahoma        1   \n",
       "1               M 2.0 - 12 km N of Yauco, Puerto Rico        2   \n",
       "2     M 1.4 - 34 km S of Denali National Park, Alaska        3   \n",
       "3                      M 0.7 - 4km SE of Beaumont, CA        4   \n",
       "4                  M 1.3 - 25 km S of Susitna, Alaska        5   \n",
       "...                                               ...      ...   \n",
       "8742           M 0.2 - 38 km NNE of Amboy, Washington     8743   \n",
       "8743    M 1.7 Quarry Blast - 45km NE of Holtville, CA     8744   \n",
       "8744                M 0.8 - 6km NW of The Geysers, CA     8745   \n",
       "8745               M 1.2 - 6 km ENE of Clayton, Idaho     8746   \n",
       "8746            M 3.0 - 47 km SSE of Nelchina, Alaska     8747   \n",
       "\n",
       "                                                  SHAPE  \n",
       "0     {\"x\": -95.71632385, \"y\": 36.42536163, \"spatial...  \n",
       "1     {\"x\": -66.8508333333333, \"y\": 18.1483333333333...  \n",
       "2     {\"x\": -151.7338, \"y\": 63.2308, \"spatialReferen...  \n",
       "3     {\"x\": -116.9441667, \"y\": 33.9098333, \"spatialR...  \n",
       "4     {\"x\": -150.5517, \"y\": 61.316, \"spatialReferenc...  \n",
       "...                                                 ...  \n",
       "8742  {\"x\": -122.17433333333334, \"y\": 46.19716666666...  \n",
       "8743  {\"x\": -114.9966667, \"y\": 33.0531667, \"spatialR...  \n",
       "8744  {\"x\": -122.8021698, \"y\": 38.8235016, \"spatialR...  \n",
       "8745  {\"x\": -114.322, \"y\": 44.271, \"spatialReference...  \n",
       "8746  {\"x\": -146.5106, \"y\": 61.5882, \"spatialReferen...  \n",
       "\n",
       "[8029 rows x 28 columns]"
      ]
     },
     "execution_count": 2,
     "metadata": {},
     "output_type": "execute_result"
    }
   ],
   "source": [
    "# Convert the GeoJSON data to a FeatureSet (ArcGIS) and then to a Spatial Data Frame (Pandas)\n",
    "\n",
    "from arcgis.features import FeatureSet\n",
    "import numpy as np\n",
    "import pandas as pd\n",
    "\n",
    "# For simplicity, ignore this warning\n",
    "pd.set_option('mode.chained_assignment', None)\n",
    "\n",
    "# Convert json to ArcGIS feature Set\n",
    "fs = FeatureSet.from_geojson(json)\n",
    "\n",
    "# Convert ArcGIS feature set to spatial data frame compatible with Pandas\n",
    "sdf = fs.sdf\n",
    "\n",
    "# Cleanup data frame\n",
    "sdf = sdf.replace(np.nan,0)  # Cleanup Invalid Numbers\n",
    "sdf.time = sdf.time.apply(lambda x : x // 1000) # Convert times to seconds for Pandas\n",
    "sdf.updated = sdf.updated.apply(lambda x : x // 1000)\n",
    "sdf = sdf.query(\"mag > 0\")\n",
    "\n",
    "sdf\n"
   ]
  },
  {
   "cell_type": "code",
   "execution_count": 3,
   "id": "ada452d4",
   "metadata": {},
   "outputs": [
    {
     "data": {
      "application/vnd.jupyter.widget-view+json": {
       "model_id": "4893e951dbf0429ea304fbb8525bc364",
       "version_major": 2,
       "version_minor": 0
      },
      "text/plain": [
       "MapView(layout=Layout(height='400px', width='100%'))"
      ]
     },
     "metadata": {},
     "output_type": "display_data"
    },
    {
     "data": {
      "text/html": [
       "<div class=\"map-static-img-preview-386436d7-d91a-4488-8c09-70c3ba4ace29\"><img src=\"\"></img></div>"
      ],
      "text/plain": [
       "<IPython.core.display.HTML object>"
      ]
     },
     "metadata": {},
     "output_type": "display_data"
    }
   ],
   "source": [
    "from arcgis import GIS\n",
    "\n",
    "# Simple map with earthquakes plotted\n",
    "\n",
    "m1 = GIS().map(\"United States\", zoomlevel=3)\n",
    "m1.center = [39, -98]\n",
    "m1.basemap = 'topo-vector'\n",
    "sdf.spatial.plot(map_widget=m1)\n",
    "m1"
   ]
  },
  {
   "cell_type": "code",
   "execution_count": 32,
   "id": "426c43bb",
   "metadata": {},
   "outputs": [
    {
     "data": {
      "application/vnd.jupyter.widget-view+json": {
       "model_id": "780866ae6db24fefa50877b57c949bf3",
       "version_major": 2,
       "version_minor": 0
      },
      "text/plain": [
       "MapView(layout=Layout(height='400px', width='100%'))"
      ]
     },
     "metadata": {},
     "output_type": "display_data"
    },
    {
     "data": {
      "text/html": [
       "<div class=\"map-static-img-preview-be6734f5-ab4b-4e05-8d55-7b8c5804267f\"><img src=\"\"></img></div>"
      ],
      "text/plain": [
       "<IPython.core.display.HTML object>"
      ]
     },
     "metadata": {},
     "output_type": "display_data"
    }
   ],
   "source": [
    "# Modify the markers\n",
    "\n",
    "m2 = GIS().map(\"United States\", zoomlevel=3)\n",
    "m2.center = [39, -98]\n",
    "m2.basemap = 'gray'\n",
    "sdf.spatial.plot(map_widget=m2,\n",
    "                 renderer_type='s', \n",
    "                 symbol_type='simple',\n",
    "                 symbol_style='d',\n",
    "                 colors= [247,101,76, 255],\n",
    "                 line_width= 0,\n",
    "                 marker_size=10)\n",
    "\n",
    "m2"
   ]
  },
  {
   "cell_type": "code",
   "execution_count": 34,
   "id": "177d8f20",
   "metadata": {},
   "outputs": [
    {
     "data": {
      "application/vnd.jupyter.widget-view+json": {
       "model_id": "e5f146a415e04c6db4f1ae21dbef87d7",
       "version_major": 2,
       "version_minor": 0
      },
      "text/plain": [
       "MapView(layout=Layout(height='400px', width='100%'), legend=True)"
      ]
     },
     "metadata": {},
     "output_type": "display_data"
    },
    {
     "data": {
      "text/html": [
       "<div class=\"map-static-img-preview-6eafe2ed-97be-4a33-a8db-028865d8f251\"><img src=\"\"></img></div>"
      ],
      "text/plain": [
       "<IPython.core.display.HTML object>"
      ]
     },
     "metadata": {},
     "output_type": "display_data"
    }
   ],
   "source": [
    "# Overlay another feature layer\n",
    "\n",
    "from arcgis.features import FeatureLayer\n",
    "\n",
    "m3 = GIS().map(\"United States\", zoomlevel=3)\n",
    "m3.center = [39, -98]\n",
    "m3.basemap = 'gray'\n",
    "\n",
    "\n",
    "\n",
    "sdf.spatial.plot(map_widget=m3,\n",
    "                 renderer_type='s', \n",
    "                 symbol_type='simple',\n",
    "                 symbol_style='o',\n",
    "                 colors= [247,101,76, 255],\n",
    "                 line_width= 0,\n",
    "                 marker_size=5)\n",
    "\n",
    "fault_url = \"https://services.arcgis.com/nzS0F0zdNLvs7nc8/arcgis/rest/services/Sean_View_6/FeatureServer/0\"\n",
    "fault_layer = FeatureLayer(fault_url)\n",
    "m3.add_layer(fault_layer)\n",
    "\n",
    "m3.legend = True\n",
    "m3"
   ]
  },
  {
   "cell_type": "code",
   "execution_count": 31,
   "id": "58a619fa",
   "metadata": {},
   "outputs": [
    {
     "data": {
      "application/vnd.jupyter.widget-view+json": {
       "model_id": "50dff31e38c6403ba52fe34e88bd148b",
       "version_major": 2,
       "version_minor": 0
      },
      "text/plain": [
       "MapView(layout=Layout(height='400px', width='100%'), legend=True)"
      ]
     },
     "metadata": {},
     "output_type": "display_data"
    },
    {
     "data": {
      "text/html": [
       "<div class=\"map-static-img-preview-93fc09d1-9b2e-4a41-9c8b-0720ddeed604\"><img src=\"\"></img></div>"
      ],
      "text/plain": [
       "<IPython.core.display.HTML object>"
      ]
     },
     "metadata": {},
     "output_type": "display_data"
    }
   ],
   "source": [
    "# Different colors (autogenerated) for different magnitudes\n",
    "\n",
    "m4 = GIS().map(\"United States\", zoomlevel=3)\n",
    "m4.center = [39, -98]\n",
    "m4.basemap = 'gray'\n",
    "sdf.spatial.plot(map_widget=m4,\n",
    "               renderer_type='c',  # for class breaks renderer\n",
    "               method='esriClassifyNaturalBreaks',  # classification algorithm\n",
    "               class_count=5,  # choose the number of classes\n",
    "               col='mag',  # numeric column to classify\n",
    "               line_width=1\n",
    "               )\n",
    "\n",
    "m4.legend = True\n",
    "m4"
   ]
  },
  {
   "cell_type": "code",
   "execution_count": 30,
   "id": "07e807d8",
   "metadata": {},
   "outputs": [
    {
     "data": {
      "application/vnd.jupyter.widget-view+json": {
       "model_id": "b43b0a46fe694ede90a0048318de9bb6",
       "version_major": 2,
       "version_minor": 0
      },
      "text/plain": [
       "MapView(layout=Layout(height='400px', width='100%'), legend=True)"
      ]
     },
     "metadata": {},
     "output_type": "display_data"
    },
    {
     "data": {
      "text/html": [
       "<div class=\"map-static-img-preview-6155b5f7-a4f3-4164-a987-d6b655bc073f\"><img src=\"\"></img></div>"
      ],
      "text/plain": [
       "<IPython.core.display.HTML object>"
      ]
     },
     "metadata": {},
     "output_type": "display_data"
    }
   ],
   "source": [
    "# Different colors (manual) for different magnitudes\n",
    "\n",
    "from arcgis.mapping import renderer\n",
    "\n",
    "m5= GIS().map(\"United States\", zoomlevel=3)\n",
    "m5.center = [39, -98]\n",
    "m5.basemap = 'gray'\n",
    "\n",
    "m5_renderer = renderer.generate_renderer(\"Point\",sdf_or_series=sdf,render_type=\"c\", field=\"mag\")\n",
    "\n",
    "# {'classMaxValue': 2,\n",
    "#        'label': '0-2',\n",
    "#        'symbol': {'type': 'esriSMS',\n",
    "#             'size' : 1,                                       \n",
    "#             'style': 'esriSMSCircle',\n",
    "#             'color': [67,130,72, 255]}},\n",
    "#\n",
    "# 0-2 : [67,130,72, 255]\n",
    "# 2-4 : [126,202,206, 255]\n",
    "# 4-6 : [235,247,76, 255]\n",
    "# > 6 : [247,101,76, 255]\n",
    "\n",
    "m5_renderer[\"classBreakInfos\"] = [{'classMaxValue': 2,\n",
    "       'label': '0-2',\n",
    "       'symbol': {'type': 'esriSMS',\n",
    "            'size' : 1,                                       \n",
    "            'style': 'esriSMSCircle',\n",
    "            'color': [67,130,72, 255]}},\n",
    "    {'classMaxValue': 4,\n",
    "       'label': '2-4',\n",
    "       'symbol': {'type': 'esriSMS',\n",
    "            'size' : 3,                  \n",
    "            'style': 'esriSMSCircle',\n",
    "            'color': [126,202,206, 255]}},\n",
    "    {'classMaxValue': 6,\n",
    "       'label': '4-6',\n",
    "       'symbol': {'type': 'esriSMS',\n",
    "           'size' : 5,                  \n",
    "           'style': 'esriSMSCircle',\n",
    "           'color': [235,247,76, 255]}},\n",
    "    {'classMaxValue': 10,\n",
    "       'label': '> 6',\n",
    "       'symbol': {'type': 'esriSMS',\n",
    "            'size' : 10,                  \n",
    "           'style': 'esriSMSCircle',\n",
    "           'color': [247,101,76, 255]}}]\n",
    "  \n",
    "\n",
    "sdf.spatial.plot(map_widget=m5, renderer=m5_renderer)\n",
    "\n",
    "m5.legend = True\n",
    "m5"
   ]
  },
  {
   "cell_type": "code",
   "execution_count": 33,
   "id": "4a933294",
   "metadata": {
    "scrolled": true
   },
   "outputs": [
    {
     "data": {
      "application/vnd.jupyter.widget-view+json": {
       "model_id": "ec74bf1e98cd4df9879524bce6030c4b",
       "version_major": 2,
       "version_minor": 0
      },
      "text/plain": [
       "MapView(layout=Layout(height='400px', width='100%'), legend=True)"
      ]
     },
     "metadata": {},
     "output_type": "display_data"
    },
    {
     "data": {
      "text/html": [
       "<div class=\"map-static-img-preview-aa44561b-3927-41f6-92b1-b39d13b34a2d\"><img src=\"\"></img></div>"
      ],
      "text/plain": [
       "<IPython.core.display.HTML object>"
      ]
     },
     "metadata": {},
     "output_type": "display_data"
    }
   ],
   "source": [
    "# Heatmap\n",
    "\n",
    "m6 = GIS().map(\"United States\", zoomlevel=3)\n",
    "m6.center = [39, -98]\n",
    "m6.basemap = 'gray'\n",
    "\n",
    "sdf_larger = sdf.query(\"mag >= 3\")\n",
    "\n",
    "m6_renderer = renderer.generate_renderer(\"Point\",sdf_or_series=sdf_larger,render_type=\"h\", blur_radius=5, stops=10)\n",
    "\n",
    "sdf_larger.spatial.plot(map_widget=m6,\n",
    "                 renderer=m6_renderer)\n",
    "\n",
    "m6.legend = True\n",
    "m6\n"
   ]
  },
  {
   "cell_type": "code",
   "execution_count": 39,
   "id": "f8126af7",
   "metadata": {},
   "outputs": [
    {
     "data": {
      "application/vnd.jupyter.widget-view+json": {
       "model_id": "c385f524475745ad98fef23cffb82ecf",
       "version_major": 2,
       "version_minor": 0
      },
      "text/plain": [
       "MapView(layout=Layout(height='400px', width='100%'), legend=True)"
      ]
     },
     "metadata": {},
     "output_type": "display_data"
    },
    {
     "data": {
      "text/html": [
       "<div class=\"map-static-img-preview-58766d5e-f65e-4a83-b9ab-b51429a14a16\"><img src=\"\"></img></div>"
      ],
      "text/plain": [
       "<IPython.core.display.HTML object>"
      ]
     },
     "metadata": {},
     "output_type": "display_data"
    }
   ],
   "source": [
    "# Unique Values (Time) and Arcade Expressions\n",
    "\n",
    "from datetime import datetime\n",
    "\n",
    "m7 = GIS().map(\"United States\", zoomlevel=3)\n",
    "m7.center = [39, -98]\n",
    "m7.basemap = 'gray'\n",
    "\n",
    "now = datetime.today().timestamp()\n",
    "sdf[\"age_days\"] = (now - sdf.time) // 86400 # Seconds in a day\n",
    "\n",
    "# sdf[\"recent\"] = sdf.apply(lambda r : \"Today\" if r.age_days < 1 else (\"Week\" if r.age_days < 7 else \"Month\"), axis=1)\n",
    "\n",
    "recent = '''\n",
    "if ($feature.age_days < 1) {\n",
    "    return \"Today\"\n",
    "} else if ($feature.age_days < 7) {\n",
    "    return \"Week\"\n",
    "} else {\n",
    "    return \"Month\"\n",
    "}\n",
    "'''\n",
    "\n",
    "recent_values = [\n",
    "    { \"value\": \"Today\", \n",
    "      \"label\": \"Today\",\n",
    "      \"symbol\": {'type': 'esriSMS',\n",
    "            'style': 'esriSMSCircle',\n",
    "            'size' : 10,\n",
    "            'color': [247,101,76, 255]}},\n",
    "    { \"value\": \"Week\", \n",
    "      \"label\": \"Week\",\n",
    "      \"symbol\": {'type': 'esriSMS',\n",
    "            'style': 'esriSMSCircle',\n",
    "            'size': 5,\n",
    "            'color': [126,202,206, 255]}},    \n",
    "    { \"value\": \"Month\", \n",
    "      \"label\": \"Month\",\n",
    "      \"symbol\": {'type': 'esriSMS',\n",
    "            'style': 'esriSMSCircle',\n",
    "            'size' : 2,  \n",
    "            'color': [235,247,76, 255]}}]\n",
    "\n",
    "\n",
    "sdf.spatial.plot(map_widget=m7,\n",
    "               renderer_type='u-a',  # for unique value rendering\n",
    "               unique_values=recent_values,\n",
    "               arcade_expression=recent,  # category column\n",
    "               )\n",
    "\n",
    "m7.legend = True\n",
    "m7\n"
   ]
  },
  {
   "cell_type": "code",
   "execution_count": null,
   "id": "b30020fd",
   "metadata": {},
   "outputs": [],
   "source": []
  }
 ],
 "metadata": {
  "kernelspec": {
   "display_name": "Python 3",
   "language": "python",
   "name": "python3"
  },
  "language_info": {
   "codemirror_mode": {
    "name": "ipython",
    "version": 3
   },
   "file_extension": ".py",
   "mimetype": "text/x-python",
   "name": "python",
   "nbconvert_exporter": "python",
   "pygments_lexer": "ipython3",
   "version": "3.7.13"
  }
 },
 "nbformat": 4,
 "nbformat_minor": 5
}
